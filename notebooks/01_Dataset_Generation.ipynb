{
  "cells": [
    {
      "cell_type": "markdown",
      "metadata": {
        "id": "mnnvVvmAc79P"
      },
      "source": [
        "# Dataset Generation\n",
        "I've decided to proceed with `Path 1` from `task_ds.md`, i.e.:\n",
        "\n",
        ">**Given weather description in plain text, generate a valid JSON file with weather conditions.**\n",
        ">\n",
        ">For example, given the following text:\n",
        ">\n",
        ">```The weather is sunny and the temperature is 20 degrees. The wind is blowing at 10 km/h.\n",
        ">Citizens are advised to go out and enjoy the weather. The weather is expected to be sunny tomorrow.\n",
        ">```\n",
        ">\n",
        ">The output can look like:\n",
        ">\n",
        ">```\n",
        ">{\n",
        "    \"weather\": \"sunny\",\n",
        "    \"temperature\": \"20 degrees\",\n",
        "    \"wind\": \"10 km/h\",\n",
        "    \"vibe\": \"enjoyable\"\n",
        ">}\n",
        ">```\n",
        "\n",
        "Consequently, I need a dataset of `WEATHER DESCRIPTION` and `WEATHER ATTRIBUTES` (in JSON format) pairs. I've looked through publically available datasets and weather APIs, however I've only found numerical data (temperature, humidity etc.) with brief descriptions (\"partially cloudy\").\n",
        "\n",
        "As a result I've decided to synthetically generate some descriptions using Claude Haiku model.\n",
        "\n",
        "I will focus on the following weather attributes:\n",
        "* general weather\n",
        "* temperature\n",
        "* wind speed\n",
        "* wind direction\n",
        "* humidity\n",
        "\n",
        "## Generation Process\n",
        "1. For each weather attribute, generate **20** examples of describing it. **15** of them will be used for training and **5** for validation.\n",
        "2. Sample with replacement from each attribute list. Each description can be used at most **5** times.\n",
        "3. Shuffle sampled descriptions. This allows the inputs to have different orders of attributes mentioned in the input.\n",
        "4. Fill templates with random values, from predefined ranges.\n",
        "5. For some of the examples remove one of the descriptions (to allow for null values)\n",
        "6. Concatenate all attributes.\n",
        "\n",
        "### Imports\n",
        "Uncomment and run the following cell, if executing in Google Colab environment"
      ]
    },
    {
      "cell_type": "code",
      "execution_count": null,
      "metadata": {},
      "outputs": [],
      "source": [
        "# !pip install -r ../requirements.txt"
      ]
    },
    {
      "cell_type": "code",
      "execution_count": 3,
      "metadata": {
        "id": "kjSLGenFhtjj"
      },
      "outputs": [],
      "source": [
        "import random\n",
        "import os\n",
        "from collections import Counter\n",
        "\n",
        "import anthropic # 0.21.3\n",
        "from datasets import Dataset\n",
        "\n",
        "\n",
        "NUM_GENERATIONS = 20\n",
        "NUM_VAL = int(0.25 * NUM_GENERATIONS)\n",
        "NUM_TRAIN = NUM_GENERATIONS - NUM_VAL\n",
        "\n",
        "RANDOM_STATE = 42\n",
        "NUM_REPEATS = 5\n",
        "PROB_OF_NULL = 0.3\n",
        "\n",
        "ADD_DEGREES = lambda x: str(x) + \" degrees\"\n",
        "ADD_PERC = lambda x: str(x) + \"%\"\n",
        "ADD_SPEED_UNIT = lambda x: str(x) + \" km/h\"\n",
        "\n",
        "NAMES_AND_RANGES = [\n",
        "    (\"temperature\", {\"<high-negative>\": list(map(ADD_DEGREES, range(-50, -10 + 1))),\n",
        "                     \"<negative>\": list(map(ADD_DEGREES, range(-10, 0 + 1))),\n",
        "                     \"<positive>\": list(map(ADD_DEGREES, range(0, 15 + 1))),\n",
        "                     \"<high-positive>\": list(map(ADD_DEGREES, range(15, 50 + 1)))}),\n",
        "    (\"wind_speed\", {\"<wind-speed>\": list(map(ADD_SPEED_UNIT, range(0, 20 + 1)))}),\n",
        "    (\"wind_direction\", {\"<wind-direction>\": [\"South\", \"West\", \"East\", \"North\", \"NE\", \"NW\", \"SW\", \"SE\"]}),\n",
        "    (\"humidity\", {\"<humidity>\": list(map(ADD_PERC, range(20, 90 + 1)))}),\n",
        "    (\"weather\", {\"<weather>\": [\"sunny\", \"cloudy\", \"rainy\", \"snowy\"]})\n",
        "]\n",
        "\n",
        "# Model details\n",
        "MODEL_ID = \"claude-3-haiku-20240307\"\n",
        "MAX_TOKENS = 1000\n",
        "MODEL_CLIENT = client = anthropic.Anthropic(\n",
        "    api_key=os.environ[\"ANTHROPIC_API_KEY\"], # API key is required to use this model\n",
        ")\n",
        "\n",
        "# Output paths\n",
        "TRAIN_DATA_OUTPUT_DIR = \"hf_training\"\n",
        "VALIDATION_DATA_OUTPUT_DIR = \"hf_validation\""
      ]
    },
    {
      "cell_type": "markdown",
      "metadata": {
        "id": "Ei6MHppzhzYW"
      },
      "source": [
        "#### Prompts for data generation"
      ]
    },
    {
      "cell_type": "code",
      "execution_count": 4,
      "metadata": {
        "id": "RVki_BbUc_30"
      },
      "outputs": [],
      "source": [
        "SYSTEM_PROMPT = \"You are a weather TV presenter with 10 years of experience.\"\n",
        "\n",
        "temperature_prompt = lambda num: f\"\"\"\\\n",
        "Generate at least {num} templates for presenting current temperature for today.\n",
        "Instead of writing temperature directly, leave <high-negative>, <negative>, <positive>, <high-positive> to be filled.\n",
        "Return those templates separated with a single \\n.\"\"\"\n",
        "\n",
        "wind_prompt = lambda num: f\"\"\"\\\n",
        "Generate at least {num} templates for presenting wind speed and direction for today.\n",
        "Instead of writing wind speed and direction directly, leave <wind-speed>, <wind-direction> to be filled.\n",
        "Return those templates separated with a single \\n.\"\"\"\n",
        "\n",
        "humidity_prompt = lambda num: f\"\"\"\\\n",
        "Generate at least {num} templates for presenting current humidity for today.\n",
        "Instead of writing humidity directly, leave <humidity> to be filled.\n",
        "Return those templates separated with a single \\n.\"\"\"\n",
        "\n",
        "general_weather_prompt = lambda num: f\"\"\"\\\n",
        "Generate at least {num} templates for presenting current weather (sun, clouds, rain, snow and other) for today.\n",
        "Instead of writing the weather directly, leave <weather> to be filled.\n",
        "Return those templates separated with a single \\n.\"\"\""
      ]
    },
    {
      "cell_type": "code",
      "execution_count": 5,
      "metadata": {
        "id": "aPQYCiDUhjMY"
      },
      "outputs": [],
      "source": [
        "def run_model(prompt: str) -> str:\n",
        "    return MODEL_CLIENT.messages.create(\n",
        "            model=MODEL_ID,\n",
        "            max_tokens=MAX_TOKENS,\n",
        "            temperature=0,\n",
        "            system=SYSTEM_PROMPT,\n",
        "            messages=[\n",
        "                {\n",
        "                    \"role\": \"user\",\n",
        "                    \"content\": [\n",
        "                        {\n",
        "                            \"type\": \"text\",\n",
        "                            \"text\": prompt\n",
        "                        }\n",
        "                    ]\n",
        "                }\n",
        "            ]\n",
        "        ).content[0].text\n"
      ]
    },
    {
      "cell_type": "markdown",
      "metadata": {
        "id": "hjm31pqVtGuo"
      },
      "source": [
        "Generate descriptions"
      ]
    },
    {
      "cell_type": "code",
      "execution_count": 9,
      "metadata": {
        "id": "QqcHd1PajZ77"
      },
      "outputs": [],
      "source": [
        "example_descriptions = []\n",
        "for prompt in [temperature_prompt, wind_prompt, humidity_prompt, general_weather_prompt]:\n",
        "    output = [line for line in run_model(prompt(NUM_GENERATIONS)).split(\"\\n\") if \"<\" in line]\n",
        "    example_descriptions.append(output)"
      ]
    },
    {
      "cell_type": "code",
      "execution_count": 10,
      "metadata": {
        "colab": {
          "base_uri": "https://localhost:8080/"
        },
        "id": "Y8-LUYnosvpQ",
        "outputId": "6d44194f-531b-465e-ac6c-d3f7b8ab6a5e"
      },
      "outputs": [
        {
          "name": "stdout",
          "output_type": "stream",
          "text": [
            "20\n",
            "20\n",
            "20\n",
            "20\n"
          ]
        }
      ],
      "source": [
        "for desc in example_descriptions:\n",
        "    print(len(desc))"
      ]
    },
    {
      "cell_type": "code",
      "execution_count": 11,
      "metadata": {
        "colab": {
          "base_uri": "https://localhost:8080/"
        },
        "id": "5SvjuSB_u-XV",
        "outputId": "ee2cc8b1-19f2-4c3e-fb9e-5ae7ced899e7"
      },
      "outputs": [
        {
          "data": {
            "text/plain": [
              "[[\"It's a <high-negative> degree day out there today.\",\n",
              "  'The temperature is sitting at a chilly <negative> degrees.',\n",
              "  \"We're looking at a <positive> degree temperature for the day.\",\n",
              "  \"Brace yourselves, it's a scorching <high-positive> degree day.\",\n",
              "  'The mercury is reading <negative> degrees as we speak.',\n",
              "  'Wrap up warm, the temperature is only <high-negative> degrees.',\n",
              "  \"It's a comfortable <positive> degrees outside today.\",\n",
              "  \"You'll want to stay cool, the temperature has reached <high-positive> degrees.\",\n",
              "  'Bundle up, the current temperature is <high-negative> degrees.',\n",
              "  \"It's a mild <positive> degree day today.\",\n",
              "  'The temperature has soared to a sweltering <high-positive> degrees.',\n",
              "  \"We're seeing a <negative> degree chill in the air today.\",\n",
              "  'Enjoy the warmth, the temperature is a pleasant <positive> degrees.',\n",
              "  \"Whew, it's a sizzling <high-positive> degree day out there.\",\n",
              "  'The thermometer is showing <high-negative> degrees at the moment.',\n",
              "  \"It's a <positive> degree day, perfect for getting outdoors.\",\n",
              "  'Brace yourselves, the temperature has hit <high-positive> degrees.',\n",
              "  'The current temperature is a brisk <negative> degrees.',\n",
              "  \"It's a <high-negative> degree day, so rug up if you're heading out.\",\n",
              "  'The temperature is a comfortable <positive> degrees today.'],\n",
              " ['Winds today will be blowing at <wind-speed> from the <wind-direction>.',\n",
              "  'Expect breezy conditions with winds reaching <wind-speed> out of the <wind-direction>.',\n",
              "  'The winds will be picking up, with gusts up to <wind-speed> coming from the <wind-direction>.',\n",
              "  'A blustery day is in store, as winds will be sustained at <wind-speed> and coming from the <wind-direction>.',\n",
              "  'Prepare for a windy day, with winds consistently blowing at <wind-speed> out of the <wind-direction>.',\n",
              "  'Gusty conditions are expected, with winds reaching <wind-speed> and originating from the <wind-direction>.',\n",
              "  'Winds will be a factor today, with speeds of <wind-speed> and a <wind-direction> direction.',\n",
              "  \"It's going to be a breezy one, as the winds will be blowing at <wind-speed> from the <wind-direction>.\",\n",
              "  'Expect the winds to be quite strong, with speeds up to <wind-speed> out of the <wind-direction>.',\n",
              "  'The winds will be a bit of a nuisance today, with gusts up to <wind-speed> from the <wind-direction>.',\n",
              "  \"Winds will be a bit of a concern, as they'll be blowing steadily at <wind-speed> from the <wind-direction>.\",\n",
              "  'Prepare for a windy commute, as the winds will be sustained at <wind-speed> and coming from the <wind-direction>.',\n",
              "  \"It's going to be a blustery day, with winds reaching <wind-speed> and originating from the <wind-direction>.\",\n",
              "  'Expect the winds to be quite lively, with gusts up to <wind-speed> out of the <wind-direction>.',\n",
              "  'The winds will be a factor to keep in mind, blowing at <wind-speed> from the <wind-direction>.',\n",
              "  'Winds will be a bit of a nuisance today, with speeds of <wind-speed> and a <wind-direction> direction.',\n",
              "  'Prepare for a breezy day, as the winds will be blowing at <wind-speed> out of the <wind-direction>.',\n",
              "  \"It's going to be a windy one, with gusts reaching <wind-speed> and coming from the <wind-direction>.\",\n",
              "  'The winds will be quite strong today, with sustained speeds of <wind-speed> from the <wind-direction>.',\n",
              "  'Expect the winds to be a bit of a concern, with gusts up to <wind-speed> out of the <wind-direction>.'],\n",
              " ['The humidity level today is currently sitting at <humidity>.',\n",
              "  \"Today's humidity is measured at <humidity>.\",\n",
              "  'Humidity levels are currently at <humidity> for the day.',\n",
              "  'The current humidity reading for today is <humidity>.',\n",
              "  \"Today's humidity is registering at <humidity>.\",\n",
              "  'Humidity is currently recorded at <humidity> for the day.',\n",
              "  \"Today's humidity stands at <humidity>.\",\n",
              "  'The humidity for today is measured at <humidity>.',\n",
              "  'Humidity levels today are holding steady at <humidity>.',\n",
              "  \"Today's humidity is clocking in at <humidity>.\",\n",
              "  'The current humidity figure for today is <humidity>.',\n",
              "  'Humidity for the day is presently at <humidity>.',\n",
              "  \"Today's humidity reading is <humidity>.\",\n",
              "  'Humidity levels today are at <humidity>.',\n",
              "  'The humidity metric for today is <humidity>.',\n",
              "  \"Today's humidity percentage is <humidity>.\",\n",
              "  'Humidity for the day is being reported at <humidity>.',\n",
              "  'The humidity statistic for today is <humidity>.',\n",
              "  \"Today's humidity value is <humidity>.\",\n",
              "  'Humidity levels are currently registered at <humidity> for the day.'],\n",
              " [\"It's a <weather> day out there today.\",\n",
              "  'The weather today is looking <weather>.',\n",
              "  \"We're seeing <weather> conditions across the region.\",\n",
              "  'Expect <weather> skies throughout the day.',\n",
              "  \"Today's weather can be described as <weather>.\",\n",
              "  'The forecast calls for <weather> weather.',\n",
              "  'Prepare for <weather> conditions as you head out the door.',\n",
              "  \"It's a <weather> kind of day today.\",\n",
              "  'Mother Nature is serving up <weather> weather today.',\n",
              "  \"If you're heading out, be ready for <weather> conditions.\",\n",
              "  'The weather pattern today is bringing <weather> skies.',\n",
              "  \"Today's weather can be summed up as <weather>.\",\n",
              "  'Get ready for a <weather> day ahead.',\n",
              "  'The current weather is <weather>.',\n",
              "  \"Looks like we're in for <weather> conditions today.\",\n",
              "  \"Today's weather is best described as <weather>.\",\n",
              "  'Expect <weather> skies throughout the day today.',\n",
              "  'The weather today will feature <weather> conditions.',\n",
              "  \"It's a <weather> kind of day out there today.\",\n",
              "  'Be sure to dress for <weather> weather as you head out.']]"
            ]
          },
          "execution_count": 11,
          "metadata": {},
          "output_type": "execute_result"
        }
      ],
      "source": [
        "example_descriptions"
      ]
    },
    {
      "cell_type": "markdown",
      "metadata": {
        "id": "Edv4T2ztvND5"
      },
      "source": [
        "Split the data"
      ]
    },
    {
      "cell_type": "code",
      "execution_count": 12,
      "metadata": {
        "id": "-mmtWpNpvOjd"
      },
      "outputs": [],
      "source": [
        "training, validation = [], []\n",
        "for attribute in example_descriptions:\n",
        "    training.append(attribute[:NUM_TRAIN])\n",
        "    validation.append(attribute[NUM_TRAIN:])"
      ]
    },
    {
      "cell_type": "markdown",
      "metadata": {
        "id": "j4EeiilqwAVL"
      },
      "source": [
        "Create synthetic examples"
      ]
    },
    {
      "cell_type": "code",
      "execution_count": 13,
      "metadata": {
        "id": "5WFHNHA6wmg9"
      },
      "outputs": [],
      "source": [
        "def create_weather_descriptions(\n",
        "    examples: list[list[str]],\n",
        "    names_and_ranges: list[tuple[str, dict]] = NAMES_AND_RANGES,\n",
        "    num_repeats: int = NUM_REPEATS,\n",
        "    null_probability: float = PROB_OF_NULL,\n",
        "    seed: int = RANDOM_STATE\n",
        "):\n",
        "    # set the seed\n",
        "    random.seed(seed)\n",
        "\n",
        "    # repeat descriptions and shuffle them\n",
        "    for i, attribute in enumerate(examples):\n",
        "        repeated_examples = [desc for desc in attribute for _ in range(num_repeats)]\n",
        "        random.shuffle(repeated_examples)\n",
        "\n",
        "        examples[i] = repeated_examples\n",
        "\n",
        "    # join them in random order and create nulls\n",
        "    joined_attributes = []\n",
        "    for attributes in zip(*examples):\n",
        "        if random.random() < null_probability:\n",
        "            attributes = random.sample(attributes, len(attributes) - 1) # removes one attribute\n",
        "\n",
        "        attributes = list(attributes)\n",
        "        random.shuffle(attributes)\n",
        "        attributes = \" \".join(attributes)\n",
        "\n",
        "        labels = {}\n",
        "        for name, ranges in names_and_ranges:\n",
        "            labels[name] = None\n",
        "            for range_key, range_values in ranges.items():\n",
        "                if range_key in attributes:\n",
        "                    sampled_value = random.choice(range_values)\n",
        "                    labels[name] = sampled_value\n",
        "                    attributes = attributes.replace(range_key, str(sampled_value))\n",
        "\n",
        "        joined_attributes.append({\"weather_description\": attributes, \"weather_conditions\": labels})\n",
        "\n",
        "\n",
        "    return joined_attributes\n"
      ]
    },
    {
      "cell_type": "code",
      "execution_count": 14,
      "metadata": {
        "id": "sFyUSXBV1N3n"
      },
      "outputs": [],
      "source": [
        "training = create_weather_descriptions(training)\n",
        "validation = create_weather_descriptions(validation)"
      ]
    },
    {
      "cell_type": "code",
      "execution_count": 15,
      "metadata": {
        "colab": {
          "base_uri": "https://localhost:8080/"
        },
        "id": "A7GRq0en2OCM",
        "outputId": "7eb35c8c-36d2-4c8e-b2bd-fd28ba1f4682"
      },
      "outputs": [
        {
          "data": {
            "text/plain": [
              "75"
            ]
          },
          "execution_count": 15,
          "metadata": {},
          "output_type": "execute_result"
        }
      ],
      "source": [
        "len(training)"
      ]
    },
    {
      "cell_type": "code",
      "execution_count": 16,
      "metadata": {
        "colab": {
          "base_uri": "https://localhost:8080/"
        },
        "id": "C4hvA7v_7dvi",
        "outputId": "a5504ea5-8117-4c97-c47f-7a73126c8a31"
      },
      "outputs": [
        {
          "data": {
            "text/plain": [
              "[{'weather_description': \"It's a mild 10 degrees degree day today. The humidity metric for today is 27%. It's a sunny kind of day today.\",\n",
              "  'weather_conditions': {'temperature': '10 degrees',\n",
              "   'wind_speed': None,\n",
              "   'wind_direction': None,\n",
              "   'humidity': '27%',\n",
              "   'weather': 'sunny'}},\n",
              " {'weather_description': \"Looks like we're in for snowy conditions today. The current humidity figure for today is 50%. Brace yourselves, it's a scorching 26 degrees degree day. Winds will be a factor today, with speeds of 2 km/h and a West direction.\",\n",
              "  'weather_conditions': {'temperature': '26 degrees',\n",
              "   'wind_speed': '2 km/h',\n",
              "   'wind_direction': 'West',\n",
              "   'humidity': '50%',\n",
              "   'weather': 'snowy'}},\n",
              " {'weather_description': \"The humidity level today is currently sitting at 53%. Expect the winds to be quite strong, with speeds up to 18 km/h out of the NW. You'll want to stay cool, the temperature has reached 41 degrees degrees.\",\n",
              "  'weather_conditions': {'temperature': '41 degrees',\n",
              "   'wind_speed': '18 km/h',\n",
              "   'wind_direction': 'NW',\n",
              "   'humidity': '53%',\n",
              "   'weather': None}},\n",
              " {'weather_description': 'The winds will be picking up, with gusts up to 20 km/h coming from the NE. Humidity levels today are at 78%. The temperature is sitting at a chilly 0 degrees degrees.',\n",
              "  'weather_conditions': {'temperature': '0 degrees',\n",
              "   'wind_speed': '20 km/h',\n",
              "   'wind_direction': 'NE',\n",
              "   'humidity': '78%',\n",
              "   'weather': None}},\n",
              " {'weather_description': \"Today's humidity is clocking in at 29%. A blustery day is in store, as winds will be sustained at 18 km/h and coming from the West. Get ready for a cloudy day ahead. The temperature is sitting at a chilly -1 degrees degrees.\",\n",
              "  'weather_conditions': {'temperature': '-1 degrees',\n",
              "   'wind_speed': '18 km/h',\n",
              "   'wind_direction': 'West',\n",
              "   'humidity': '29%',\n",
              "   'weather': 'cloudy'}}]"
            ]
          },
          "execution_count": 16,
          "metadata": {},
          "output_type": "execute_result"
        }
      ],
      "source": [
        "training[:5]"
      ]
    },
    {
      "cell_type": "markdown",
      "metadata": {
        "id": "Q8bsKdNq73tV"
      },
      "source": [
        "### Saving the datasets\n",
        "I'll save them using HuggingFace datasets format, because I'll be using HF API anyway, during model fine-tuning phase."
      ]
    },
    {
      "cell_type": "code",
      "execution_count": 17,
      "metadata": {
        "colab": {
          "base_uri": "https://localhost:8080/",
          "height": 81,
          "referenced_widgets": [
            "1d317534bc5e4213a1cc9e5b13716325",
            "41a12c24be2249fc9b35fe386e725ef2",
            "60f39f863d6f40b493f8213433daf8a3",
            "74bace3f90734361923c1ec36adc7e34",
            "44d184807aa44349a7dbd44a5942542c",
            "0b03563d3d21460cbac4d99d10c9f033",
            "ef7b2c6aeaca4badb7cce2d0ae0b6e43",
            "8f92bc70064e44b485ccd408052767d0",
            "a01351eaf3114ef1b8b59dd70e61d917",
            "b488a00647a541738438c5412d85b41e",
            "fe9bda5747f74f4692a48fadd2bcc049",
            "2b13a8f570804d72a1fb88fbc28ca76e",
            "eefa73dff1cd4a9fba7772299f372b12",
            "92daaff5d4c84d9d8fda6440632e7831",
            "ef69c2e52a284a5a8debaab0f1fbbf22",
            "49650891577640c9a4890a156bcb3ce8",
            "6dd73d9e926848638e6d0a673fbcdacf",
            "3b362f76fbc4482ebcf7d85fa86c2bf0",
            "81eb79d368c047c1bd871ff1551a208b",
            "0b9cd36e1e994ecd97e51a652eace22e",
            "c80be363553347afa07a3567f4786b2d",
            "e0bebdf5a8d34199bde9a721686f1f8a"
          ]
        },
        "id": "WZvDVRo28IuW",
        "outputId": "55f42e7d-8a35-4127-c04e-021c6b4a63e4"
      },
      "outputs": [
        {
          "data": {
            "application/vnd.jupyter.widget-view+json": {
              "model_id": "1d317534bc5e4213a1cc9e5b13716325",
              "version_major": 2,
              "version_minor": 0
            },
            "text/plain": [
              "Saving the dataset (0/1 shards):   0%|          | 0/75 [00:00<?, ? examples/s]"
            ]
          },
          "metadata": {},
          "output_type": "display_data"
        },
        {
          "data": {
            "application/vnd.jupyter.widget-view+json": {
              "model_id": "2b13a8f570804d72a1fb88fbc28ca76e",
              "version_major": 2,
              "version_minor": 0
            },
            "text/plain": [
              "Saving the dataset (0/1 shards):   0%|          | 0/25 [00:00<?, ? examples/s]"
            ]
          },
          "metadata": {},
          "output_type": "display_data"
        }
      ],
      "source": [
        "hf_training = Dataset.from_list(training)\n",
        "hf_validation = Dataset.from_list(validation)\n",
        "\n",
        "hf_training.save_to_disk(TRAIN_DATA_OUTPUT_DIR)\n",
        "hf_validation.save_to_disk(VALIDATION_DATA_OUTPUT_DIR)"
      ]
    }
  ],
  "metadata": {
    "colab": {
      "provenance": []
    },
    "kernelspec": {
      "display_name": "Python 3",
      "name": "python3"
    },
    "language_info": {
      "name": "python"
    },
    "widgets": {
      "application/vnd.jupyter.widget-state+json": {
        "0b03563d3d21460cbac4d99d10c9f033": {
          "model_module": "@jupyter-widgets/base",
          "model_module_version": "1.2.0",
          "model_name": "LayoutModel",
          "state": {
            "_model_module": "@jupyter-widgets/base",
            "_model_module_version": "1.2.0",
            "_model_name": "LayoutModel",
            "_view_count": null,
            "_view_module": "@jupyter-widgets/base",
            "_view_module_version": "1.2.0",
            "_view_name": "LayoutView",
            "align_content": null,
            "align_items": null,
            "align_self": null,
            "border": null,
            "bottom": null,
            "display": null,
            "flex": null,
            "flex_flow": null,
            "grid_area": null,
            "grid_auto_columns": null,
            "grid_auto_flow": null,
            "grid_auto_rows": null,
            "grid_column": null,
            "grid_gap": null,
            "grid_row": null,
            "grid_template_areas": null,
            "grid_template_columns": null,
            "grid_template_rows": null,
            "height": null,
            "justify_content": null,
            "justify_items": null,
            "left": null,
            "margin": null,
            "max_height": null,
            "max_width": null,
            "min_height": null,
            "min_width": null,
            "object_fit": null,
            "object_position": null,
            "order": null,
            "overflow": null,
            "overflow_x": null,
            "overflow_y": null,
            "padding": null,
            "right": null,
            "top": null,
            "visibility": null,
            "width": null
          }
        },
        "0b9cd36e1e994ecd97e51a652eace22e": {
          "model_module": "@jupyter-widgets/controls",
          "model_module_version": "1.5.0",
          "model_name": "ProgressStyleModel",
          "state": {
            "_model_module": "@jupyter-widgets/controls",
            "_model_module_version": "1.5.0",
            "_model_name": "ProgressStyleModel",
            "_view_count": null,
            "_view_module": "@jupyter-widgets/base",
            "_view_module_version": "1.2.0",
            "_view_name": "StyleView",
            "bar_color": null,
            "description_width": ""
          }
        },
        "1d317534bc5e4213a1cc9e5b13716325": {
          "model_module": "@jupyter-widgets/controls",
          "model_module_version": "1.5.0",
          "model_name": "HBoxModel",
          "state": {
            "_dom_classes": [],
            "_model_module": "@jupyter-widgets/controls",
            "_model_module_version": "1.5.0",
            "_model_name": "HBoxModel",
            "_view_count": null,
            "_view_module": "@jupyter-widgets/controls",
            "_view_module_version": "1.5.0",
            "_view_name": "HBoxView",
            "box_style": "",
            "children": [
              "IPY_MODEL_41a12c24be2249fc9b35fe386e725ef2",
              "IPY_MODEL_60f39f863d6f40b493f8213433daf8a3",
              "IPY_MODEL_74bace3f90734361923c1ec36adc7e34"
            ],
            "layout": "IPY_MODEL_44d184807aa44349a7dbd44a5942542c"
          }
        },
        "2b13a8f570804d72a1fb88fbc28ca76e": {
          "model_module": "@jupyter-widgets/controls",
          "model_module_version": "1.5.0",
          "model_name": "HBoxModel",
          "state": {
            "_dom_classes": [],
            "_model_module": "@jupyter-widgets/controls",
            "_model_module_version": "1.5.0",
            "_model_name": "HBoxModel",
            "_view_count": null,
            "_view_module": "@jupyter-widgets/controls",
            "_view_module_version": "1.5.0",
            "_view_name": "HBoxView",
            "box_style": "",
            "children": [
              "IPY_MODEL_eefa73dff1cd4a9fba7772299f372b12",
              "IPY_MODEL_92daaff5d4c84d9d8fda6440632e7831",
              "IPY_MODEL_ef69c2e52a284a5a8debaab0f1fbbf22"
            ],
            "layout": "IPY_MODEL_49650891577640c9a4890a156bcb3ce8"
          }
        },
        "3b362f76fbc4482ebcf7d85fa86c2bf0": {
          "model_module": "@jupyter-widgets/controls",
          "model_module_version": "1.5.0",
          "model_name": "DescriptionStyleModel",
          "state": {
            "_model_module": "@jupyter-widgets/controls",
            "_model_module_version": "1.5.0",
            "_model_name": "DescriptionStyleModel",
            "_view_count": null,
            "_view_module": "@jupyter-widgets/base",
            "_view_module_version": "1.2.0",
            "_view_name": "StyleView",
            "description_width": ""
          }
        },
        "41a12c24be2249fc9b35fe386e725ef2": {
          "model_module": "@jupyter-widgets/controls",
          "model_module_version": "1.5.0",
          "model_name": "HTMLModel",
          "state": {
            "_dom_classes": [],
            "_model_module": "@jupyter-widgets/controls",
            "_model_module_version": "1.5.0",
            "_model_name": "HTMLModel",
            "_view_count": null,
            "_view_module": "@jupyter-widgets/controls",
            "_view_module_version": "1.5.0",
            "_view_name": "HTMLView",
            "description": "",
            "description_tooltip": null,
            "layout": "IPY_MODEL_0b03563d3d21460cbac4d99d10c9f033",
            "placeholder": "​",
            "style": "IPY_MODEL_ef7b2c6aeaca4badb7cce2d0ae0b6e43",
            "value": "Saving the dataset (1/1 shards): 100%"
          }
        },
        "44d184807aa44349a7dbd44a5942542c": {
          "model_module": "@jupyter-widgets/base",
          "model_module_version": "1.2.0",
          "model_name": "LayoutModel",
          "state": {
            "_model_module": "@jupyter-widgets/base",
            "_model_module_version": "1.2.0",
            "_model_name": "LayoutModel",
            "_view_count": null,
            "_view_module": "@jupyter-widgets/base",
            "_view_module_version": "1.2.0",
            "_view_name": "LayoutView",
            "align_content": null,
            "align_items": null,
            "align_self": null,
            "border": null,
            "bottom": null,
            "display": null,
            "flex": null,
            "flex_flow": null,
            "grid_area": null,
            "grid_auto_columns": null,
            "grid_auto_flow": null,
            "grid_auto_rows": null,
            "grid_column": null,
            "grid_gap": null,
            "grid_row": null,
            "grid_template_areas": null,
            "grid_template_columns": null,
            "grid_template_rows": null,
            "height": null,
            "justify_content": null,
            "justify_items": null,
            "left": null,
            "margin": null,
            "max_height": null,
            "max_width": null,
            "min_height": null,
            "min_width": null,
            "object_fit": null,
            "object_position": null,
            "order": null,
            "overflow": null,
            "overflow_x": null,
            "overflow_y": null,
            "padding": null,
            "right": null,
            "top": null,
            "visibility": null,
            "width": null
          }
        },
        "49650891577640c9a4890a156bcb3ce8": {
          "model_module": "@jupyter-widgets/base",
          "model_module_version": "1.2.0",
          "model_name": "LayoutModel",
          "state": {
            "_model_module": "@jupyter-widgets/base",
            "_model_module_version": "1.2.0",
            "_model_name": "LayoutModel",
            "_view_count": null,
            "_view_module": "@jupyter-widgets/base",
            "_view_module_version": "1.2.0",
            "_view_name": "LayoutView",
            "align_content": null,
            "align_items": null,
            "align_self": null,
            "border": null,
            "bottom": null,
            "display": null,
            "flex": null,
            "flex_flow": null,
            "grid_area": null,
            "grid_auto_columns": null,
            "grid_auto_flow": null,
            "grid_auto_rows": null,
            "grid_column": null,
            "grid_gap": null,
            "grid_row": null,
            "grid_template_areas": null,
            "grid_template_columns": null,
            "grid_template_rows": null,
            "height": null,
            "justify_content": null,
            "justify_items": null,
            "left": null,
            "margin": null,
            "max_height": null,
            "max_width": null,
            "min_height": null,
            "min_width": null,
            "object_fit": null,
            "object_position": null,
            "order": null,
            "overflow": null,
            "overflow_x": null,
            "overflow_y": null,
            "padding": null,
            "right": null,
            "top": null,
            "visibility": null,
            "width": null
          }
        },
        "60f39f863d6f40b493f8213433daf8a3": {
          "model_module": "@jupyter-widgets/controls",
          "model_module_version": "1.5.0",
          "model_name": "FloatProgressModel",
          "state": {
            "_dom_classes": [],
            "_model_module": "@jupyter-widgets/controls",
            "_model_module_version": "1.5.0",
            "_model_name": "FloatProgressModel",
            "_view_count": null,
            "_view_module": "@jupyter-widgets/controls",
            "_view_module_version": "1.5.0",
            "_view_name": "ProgressView",
            "bar_style": "success",
            "description": "",
            "description_tooltip": null,
            "layout": "IPY_MODEL_8f92bc70064e44b485ccd408052767d0",
            "max": 75,
            "min": 0,
            "orientation": "horizontal",
            "style": "IPY_MODEL_a01351eaf3114ef1b8b59dd70e61d917",
            "value": 75
          }
        },
        "6dd73d9e926848638e6d0a673fbcdacf": {
          "model_module": "@jupyter-widgets/base",
          "model_module_version": "1.2.0",
          "model_name": "LayoutModel",
          "state": {
            "_model_module": "@jupyter-widgets/base",
            "_model_module_version": "1.2.0",
            "_model_name": "LayoutModel",
            "_view_count": null,
            "_view_module": "@jupyter-widgets/base",
            "_view_module_version": "1.2.0",
            "_view_name": "LayoutView",
            "align_content": null,
            "align_items": null,
            "align_self": null,
            "border": null,
            "bottom": null,
            "display": null,
            "flex": null,
            "flex_flow": null,
            "grid_area": null,
            "grid_auto_columns": null,
            "grid_auto_flow": null,
            "grid_auto_rows": null,
            "grid_column": null,
            "grid_gap": null,
            "grid_row": null,
            "grid_template_areas": null,
            "grid_template_columns": null,
            "grid_template_rows": null,
            "height": null,
            "justify_content": null,
            "justify_items": null,
            "left": null,
            "margin": null,
            "max_height": null,
            "max_width": null,
            "min_height": null,
            "min_width": null,
            "object_fit": null,
            "object_position": null,
            "order": null,
            "overflow": null,
            "overflow_x": null,
            "overflow_y": null,
            "padding": null,
            "right": null,
            "top": null,
            "visibility": null,
            "width": null
          }
        },
        "74bace3f90734361923c1ec36adc7e34": {
          "model_module": "@jupyter-widgets/controls",
          "model_module_version": "1.5.0",
          "model_name": "HTMLModel",
          "state": {
            "_dom_classes": [],
            "_model_module": "@jupyter-widgets/controls",
            "_model_module_version": "1.5.0",
            "_model_name": "HTMLModel",
            "_view_count": null,
            "_view_module": "@jupyter-widgets/controls",
            "_view_module_version": "1.5.0",
            "_view_name": "HTMLView",
            "description": "",
            "description_tooltip": null,
            "layout": "IPY_MODEL_b488a00647a541738438c5412d85b41e",
            "placeholder": "​",
            "style": "IPY_MODEL_fe9bda5747f74f4692a48fadd2bcc049",
            "value": " 75/75 [00:00&lt;00:00, 2229.16 examples/s]"
          }
        },
        "81eb79d368c047c1bd871ff1551a208b": {
          "model_module": "@jupyter-widgets/base",
          "model_module_version": "1.2.0",
          "model_name": "LayoutModel",
          "state": {
            "_model_module": "@jupyter-widgets/base",
            "_model_module_version": "1.2.0",
            "_model_name": "LayoutModel",
            "_view_count": null,
            "_view_module": "@jupyter-widgets/base",
            "_view_module_version": "1.2.0",
            "_view_name": "LayoutView",
            "align_content": null,
            "align_items": null,
            "align_self": null,
            "border": null,
            "bottom": null,
            "display": null,
            "flex": null,
            "flex_flow": null,
            "grid_area": null,
            "grid_auto_columns": null,
            "grid_auto_flow": null,
            "grid_auto_rows": null,
            "grid_column": null,
            "grid_gap": null,
            "grid_row": null,
            "grid_template_areas": null,
            "grid_template_columns": null,
            "grid_template_rows": null,
            "height": null,
            "justify_content": null,
            "justify_items": null,
            "left": null,
            "margin": null,
            "max_height": null,
            "max_width": null,
            "min_height": null,
            "min_width": null,
            "object_fit": null,
            "object_position": null,
            "order": null,
            "overflow": null,
            "overflow_x": null,
            "overflow_y": null,
            "padding": null,
            "right": null,
            "top": null,
            "visibility": null,
            "width": null
          }
        },
        "8f92bc70064e44b485ccd408052767d0": {
          "model_module": "@jupyter-widgets/base",
          "model_module_version": "1.2.0",
          "model_name": "LayoutModel",
          "state": {
            "_model_module": "@jupyter-widgets/base",
            "_model_module_version": "1.2.0",
            "_model_name": "LayoutModel",
            "_view_count": null,
            "_view_module": "@jupyter-widgets/base",
            "_view_module_version": "1.2.0",
            "_view_name": "LayoutView",
            "align_content": null,
            "align_items": null,
            "align_self": null,
            "border": null,
            "bottom": null,
            "display": null,
            "flex": null,
            "flex_flow": null,
            "grid_area": null,
            "grid_auto_columns": null,
            "grid_auto_flow": null,
            "grid_auto_rows": null,
            "grid_column": null,
            "grid_gap": null,
            "grid_row": null,
            "grid_template_areas": null,
            "grid_template_columns": null,
            "grid_template_rows": null,
            "height": null,
            "justify_content": null,
            "justify_items": null,
            "left": null,
            "margin": null,
            "max_height": null,
            "max_width": null,
            "min_height": null,
            "min_width": null,
            "object_fit": null,
            "object_position": null,
            "order": null,
            "overflow": null,
            "overflow_x": null,
            "overflow_y": null,
            "padding": null,
            "right": null,
            "top": null,
            "visibility": null,
            "width": null
          }
        },
        "92daaff5d4c84d9d8fda6440632e7831": {
          "model_module": "@jupyter-widgets/controls",
          "model_module_version": "1.5.0",
          "model_name": "FloatProgressModel",
          "state": {
            "_dom_classes": [],
            "_model_module": "@jupyter-widgets/controls",
            "_model_module_version": "1.5.0",
            "_model_name": "FloatProgressModel",
            "_view_count": null,
            "_view_module": "@jupyter-widgets/controls",
            "_view_module_version": "1.5.0",
            "_view_name": "ProgressView",
            "bar_style": "success",
            "description": "",
            "description_tooltip": null,
            "layout": "IPY_MODEL_81eb79d368c047c1bd871ff1551a208b",
            "max": 25,
            "min": 0,
            "orientation": "horizontal",
            "style": "IPY_MODEL_0b9cd36e1e994ecd97e51a652eace22e",
            "value": 25
          }
        },
        "a01351eaf3114ef1b8b59dd70e61d917": {
          "model_module": "@jupyter-widgets/controls",
          "model_module_version": "1.5.0",
          "model_name": "ProgressStyleModel",
          "state": {
            "_model_module": "@jupyter-widgets/controls",
            "_model_module_version": "1.5.0",
            "_model_name": "ProgressStyleModel",
            "_view_count": null,
            "_view_module": "@jupyter-widgets/base",
            "_view_module_version": "1.2.0",
            "_view_name": "StyleView",
            "bar_color": null,
            "description_width": ""
          }
        },
        "b488a00647a541738438c5412d85b41e": {
          "model_module": "@jupyter-widgets/base",
          "model_module_version": "1.2.0",
          "model_name": "LayoutModel",
          "state": {
            "_model_module": "@jupyter-widgets/base",
            "_model_module_version": "1.2.0",
            "_model_name": "LayoutModel",
            "_view_count": null,
            "_view_module": "@jupyter-widgets/base",
            "_view_module_version": "1.2.0",
            "_view_name": "LayoutView",
            "align_content": null,
            "align_items": null,
            "align_self": null,
            "border": null,
            "bottom": null,
            "display": null,
            "flex": null,
            "flex_flow": null,
            "grid_area": null,
            "grid_auto_columns": null,
            "grid_auto_flow": null,
            "grid_auto_rows": null,
            "grid_column": null,
            "grid_gap": null,
            "grid_row": null,
            "grid_template_areas": null,
            "grid_template_columns": null,
            "grid_template_rows": null,
            "height": null,
            "justify_content": null,
            "justify_items": null,
            "left": null,
            "margin": null,
            "max_height": null,
            "max_width": null,
            "min_height": null,
            "min_width": null,
            "object_fit": null,
            "object_position": null,
            "order": null,
            "overflow": null,
            "overflow_x": null,
            "overflow_y": null,
            "padding": null,
            "right": null,
            "top": null,
            "visibility": null,
            "width": null
          }
        },
        "c80be363553347afa07a3567f4786b2d": {
          "model_module": "@jupyter-widgets/base",
          "model_module_version": "1.2.0",
          "model_name": "LayoutModel",
          "state": {
            "_model_module": "@jupyter-widgets/base",
            "_model_module_version": "1.2.0",
            "_model_name": "LayoutModel",
            "_view_count": null,
            "_view_module": "@jupyter-widgets/base",
            "_view_module_version": "1.2.0",
            "_view_name": "LayoutView",
            "align_content": null,
            "align_items": null,
            "align_self": null,
            "border": null,
            "bottom": null,
            "display": null,
            "flex": null,
            "flex_flow": null,
            "grid_area": null,
            "grid_auto_columns": null,
            "grid_auto_flow": null,
            "grid_auto_rows": null,
            "grid_column": null,
            "grid_gap": null,
            "grid_row": null,
            "grid_template_areas": null,
            "grid_template_columns": null,
            "grid_template_rows": null,
            "height": null,
            "justify_content": null,
            "justify_items": null,
            "left": null,
            "margin": null,
            "max_height": null,
            "max_width": null,
            "min_height": null,
            "min_width": null,
            "object_fit": null,
            "object_position": null,
            "order": null,
            "overflow": null,
            "overflow_x": null,
            "overflow_y": null,
            "padding": null,
            "right": null,
            "top": null,
            "visibility": null,
            "width": null
          }
        },
        "e0bebdf5a8d34199bde9a721686f1f8a": {
          "model_module": "@jupyter-widgets/controls",
          "model_module_version": "1.5.0",
          "model_name": "DescriptionStyleModel",
          "state": {
            "_model_module": "@jupyter-widgets/controls",
            "_model_module_version": "1.5.0",
            "_model_name": "DescriptionStyleModel",
            "_view_count": null,
            "_view_module": "@jupyter-widgets/base",
            "_view_module_version": "1.2.0",
            "_view_name": "StyleView",
            "description_width": ""
          }
        },
        "eefa73dff1cd4a9fba7772299f372b12": {
          "model_module": "@jupyter-widgets/controls",
          "model_module_version": "1.5.0",
          "model_name": "HTMLModel",
          "state": {
            "_dom_classes": [],
            "_model_module": "@jupyter-widgets/controls",
            "_model_module_version": "1.5.0",
            "_model_name": "HTMLModel",
            "_view_count": null,
            "_view_module": "@jupyter-widgets/controls",
            "_view_module_version": "1.5.0",
            "_view_name": "HTMLView",
            "description": "",
            "description_tooltip": null,
            "layout": "IPY_MODEL_6dd73d9e926848638e6d0a673fbcdacf",
            "placeholder": "​",
            "style": "IPY_MODEL_3b362f76fbc4482ebcf7d85fa86c2bf0",
            "value": "Saving the dataset (1/1 shards): 100%"
          }
        },
        "ef69c2e52a284a5a8debaab0f1fbbf22": {
          "model_module": "@jupyter-widgets/controls",
          "model_module_version": "1.5.0",
          "model_name": "HTMLModel",
          "state": {
            "_dom_classes": [],
            "_model_module": "@jupyter-widgets/controls",
            "_model_module_version": "1.5.0",
            "_model_name": "HTMLModel",
            "_view_count": null,
            "_view_module": "@jupyter-widgets/controls",
            "_view_module_version": "1.5.0",
            "_view_name": "HTMLView",
            "description": "",
            "description_tooltip": null,
            "layout": "IPY_MODEL_c80be363553347afa07a3567f4786b2d",
            "placeholder": "​",
            "style": "IPY_MODEL_e0bebdf5a8d34199bde9a721686f1f8a",
            "value": " 25/25 [00:00&lt;00:00, 596.99 examples/s]"
          }
        },
        "ef7b2c6aeaca4badb7cce2d0ae0b6e43": {
          "model_module": "@jupyter-widgets/controls",
          "model_module_version": "1.5.0",
          "model_name": "DescriptionStyleModel",
          "state": {
            "_model_module": "@jupyter-widgets/controls",
            "_model_module_version": "1.5.0",
            "_model_name": "DescriptionStyleModel",
            "_view_count": null,
            "_view_module": "@jupyter-widgets/base",
            "_view_module_version": "1.2.0",
            "_view_name": "StyleView",
            "description_width": ""
          }
        },
        "fe9bda5747f74f4692a48fadd2bcc049": {
          "model_module": "@jupyter-widgets/controls",
          "model_module_version": "1.5.0",
          "model_name": "DescriptionStyleModel",
          "state": {
            "_model_module": "@jupyter-widgets/controls",
            "_model_module_version": "1.5.0",
            "_model_name": "DescriptionStyleModel",
            "_view_count": null,
            "_view_module": "@jupyter-widgets/base",
            "_view_module_version": "1.2.0",
            "_view_name": "StyleView",
            "description_width": ""
          }
        }
      }
    }
  },
  "nbformat": 4,
  "nbformat_minor": 0
}
